{
 "cells": [
  {
   "cell_type": "code",
   "execution_count": 21,
   "metadata": {},
   "outputs": [],
   "source": [
    "from splinter import Browser\n",
    "import sqlalchemy\n",
    "from bs4 import BeautifulSoup\n",
    "import matplotlib.pyplot as plt\n",
    "import pandas as pd\n",
    "from pathlib import Path\n",
    "import time\n",
    "from sqlalchemy import create_engine\n",
    "import sqlite3\n",
    "\n",
    "browser = Browser('chrome')\n",
    "url = 'https://www.pickleheads.com/courts/us/florida'\n",
    "browser.visit(url)\n",
    "buttons = browser.find_by_css(\".css-2ttlle\")\n",
    "button_index_to_click = 1\n",
    "if button_index_to_click < len(buttons):\n",
    "    button_to_click = buttons[button_index_to_click]\n",
    "    button_to_click.click()\n",
    "    time.sleep(2)\n",
    "html = browser.html\n",
    "soup = BeautifulSoup(html, 'html.parser')"
   ]
  },
  {
   "cell_type": "code",
   "execution_count": 22,
   "metadata": {},
   "outputs": [],
   "source": [
    "whole_list=soup.find('div',class_='css-12eoos1')"
   ]
  },
  {
   "cell_type": "code",
   "execution_count": 18,
   "metadata": {},
   "outputs": [
    {
     "name": "stdout",
     "output_type": "stream",
     "text": [
      "1033\n"
     ]
    }
   ],
   "source": [
    "location = []\n",
    "city = []\n",
    "courts=[]\n",
    "\n",
    "for entry in whole_list:\n",
    "    location_data = entry.find('span', class_='css-uyrttv')\n",
    "    if location_data:\n",
    "        location.append(location_data.text)\n",
    "    else:\n",
    "        continue\n",
    "\n",
    "    city_data = entry.find(class_='css-1vl3ez2')\n",
    "    \n",
    "    if city_data:\n",
    "        city.append(city_data.text)\n",
    "\n",
    "    court_data=entry.select('.css-1vl3ez2')\n",
    "    if court_data: \n",
    "        last_span=court_data[-1] \n",
    "        courts.append(last_span.text)"
   ]
  },
  {
   "cell_type": "code",
   "execution_count": 19,
   "metadata": {},
   "outputs": [],
   "source": [
    "#Create a dataframe with the locations and cities.\n",
    "pickleball_dict={\"Location Name\":location,\n",
    "                 \"City\":city,\n",
    "                 \"Number of Courts\":courts}\n",
    "fl_pickleball_df=pd.DataFrame(pickleball_dict)\n",
    "fl_pickleball_df_sorted=fl_pickleball_df.sort_values(by='City',ascending=True)\n",
    "city_county_df=pd.read_csv('Florida City County and Coordinates.csv')\n",
    "city_county_df=city_county_df.rename(columns={\"CITY\":\"City\",\"COUNTY\":\"County\",\"LATITUDE\":\"Latitude\",\"LONGITUDE\":\"Longitude\"})"
   ]
  },
  {
   "cell_type": "code",
   "execution_count": 24,
   "metadata": {},
   "outputs": [
    {
     "data": {
      "text/plain": [
       "1033"
      ]
     },
     "execution_count": 24,
     "metadata": {},
     "output_type": "execute_result"
    }
   ],
   "source": [
    "fl_full_info=pd.merge(fl_pickleball_df_sorted,city_county_df,on='City',how='left')\n",
    "fl_full_info.to_csv('pickleball_courts_with_counties_updated.csv',index=False)\n",
    "fl_full_info['Number of Courts'] = fl_full_info['Number of Courts'].str.replace(' courts', '')\n",
    "fl_full_info['Number of Courts'] = fl_full_info['Number of Courts'].str.replace(' court', '')\n",
    "fl_pickleball_file = 'court_location.sqlite'\n",
    "conn = sqlite3.connect(fl_pickleball_file)\n",
    "fl_full_info.to_sql('county_courts', conn, if_exists='replace', index=False)"
   ]
  },
  {
   "cell_type": "code",
   "execution_count": null,
   "metadata": {},
   "outputs": [],
   "source": [
    "browser.quit()"
   ]
  }
 ],
 "metadata": {
  "kernelspec": {
   "display_name": "dev",
   "language": "python",
   "name": "python3"
  },
  "language_info": {
   "codemirror_mode": {
    "name": "ipython",
    "version": 3
   },
   "file_extension": ".py",
   "mimetype": "text/x-python",
   "name": "python",
   "nbconvert_exporter": "python",
   "pygments_lexer": "ipython3",
   "version": "3.10.11"
  },
  "orig_nbformat": 4
 },
 "nbformat": 4,
 "nbformat_minor": 2
}
