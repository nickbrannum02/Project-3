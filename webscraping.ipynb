{
 "cells": [
  {
   "cell_type": "code",
   "execution_count": 1,
   "metadata": {},
   "outputs": [],
   "source": [
    "from splinter import Browser\n",
    "from bs4 import BeautifulSoup\n",
    "import matplotlib.pyplot as plt\n",
    "import pandas as pd\n",
    "from pathlib import Path\n",
    "import time\n",
    "import sqlalchemy\n",
    "from sqlalchemy import create_engine, Column, Integer, String, PrimaryKeyConstraint, func,inspect\n",
    "from sqlalchemy.ext.declarative import declarative_base\n",
    "from sqlalchemy.orm import sessionmaker, Session\n",
    "import sqlite3\n",
    "from sqlalchemy.ext.automap import automap_base\n",
    "\n",
    "\n",
    "browser = Browser('chrome')\n",
    "url = 'https://www.pickleheads.com/courts/us/florida'\n",
    "browser.visit(url)\n",
    "buttons = browser.find_by_css(\".css-2ttlle\")\n",
    "button_index_to_click = 1\n",
    "if button_index_to_click < len(buttons):\n",
    "    button_to_click = buttons[button_index_to_click]\n",
    "    button_to_click.click()\n",
    "    time.sleep(2)\n",
    "html = browser.html\n",
    "soup = BeautifulSoup(html, 'html.parser')"
   ]
  },
  {
   "cell_type": "code",
   "execution_count": 2,
   "metadata": {},
   "outputs": [],
   "source": [
    "whole_list=soup.find('div',class_='css-12eoos1')"
   ]
  },
  {
   "cell_type": "code",
   "execution_count": 3,
   "metadata": {},
   "outputs": [],
   "source": [
    "location = []\n",
    "city = []\n",
    "courts=[]\n",
    "\n",
    "for entry in whole_list:\n",
    "    location_data = entry.find('span', class_='css-uyrttv')\n",
    "    if location_data:\n",
    "        location.append(location_data.text)\n",
    "    else:\n",
    "        continue\n",
    "\n",
    "    city_data = entry.find(class_='css-1vl3ez2')\n",
    "    \n",
    "    if city_data:\n",
    "        city.append(city_data.text)\n",
    "\n",
    "    court_data=entry.select('.css-1vl3ez2')\n",
    "    if court_data: \n",
    "        last_span=court_data[-1] \n",
    "        courts.append(last_span.text)"
   ]
  },
  {
   "cell_type": "code",
   "execution_count": 13,
   "metadata": {},
   "outputs": [],
   "source": [
    "#Create a dataframe with the locations and cities.\n",
    "pickleball_dict={\"Location Name\":location,\n",
    "                 \"City\":city,\n",
    "                 \"Number of Courts\":courts}\n",
    "fl_pickleball_df=pd.DataFrame(pickleball_dict)\n",
    "fl_pickleball_df_sorted=fl_pickleball_df.sort_values(by='City',ascending=True)\n",
    "city_county_df=pd.read_csv('Florida City County and Coordinates.csv')\n",
    "city_county_df=city_county_df.rename(columns={\"CITY\":\"City\",\"COUNTY\":\"County\",\"LATITUDE\":\"Latitude\",\"LONGITUDE\":\"Longitude\"})"
   ]
  },
  {
   "cell_type": "code",
   "execution_count": 14,
   "metadata": {},
   "outputs": [
    {
     "data": {
      "text/html": [
       "<div>\n",
       "<style scoped>\n",
       "    .dataframe tbody tr th:only-of-type {\n",
       "        vertical-align: middle;\n",
       "    }\n",
       "\n",
       "    .dataframe tbody tr th {\n",
       "        vertical-align: top;\n",
       "    }\n",
       "\n",
       "    .dataframe thead th {\n",
       "        text-align: right;\n",
       "    }\n",
       "</style>\n",
       "<table border=\"1\" class=\"dataframe\">\n",
       "  <thead>\n",
       "    <tr style=\"text-align: right;\">\n",
       "      <th></th>\n",
       "      <th>Location Name</th>\n",
       "      <th>City</th>\n",
       "      <th>Number of Courts</th>\n",
       "      <th>County</th>\n",
       "      <th>Latitude</th>\n",
       "      <th>Longitude</th>\n",
       "      <th>ID</th>\n",
       "    </tr>\n",
       "  </thead>\n",
       "  <tbody>\n",
       "    <tr>\n",
       "      <th>0</th>\n",
       "      <td>Hal Brady Recreation Complex</td>\n",
       "      <td>Alachua</td>\n",
       "      <td>6</td>\n",
       "      <td>Alachua</td>\n",
       "      <td>29.796996</td>\n",
       "      <td>-82.480531</td>\n",
       "      <td>1</td>\n",
       "    </tr>\n",
       "    <tr>\n",
       "      <th>1</th>\n",
       "      <td>Eastmonte Park</td>\n",
       "      <td>Altamonte Springs</td>\n",
       "      <td>4</td>\n",
       "      <td>Seminole</td>\n",
       "      <td>28.662728</td>\n",
       "      <td>-81.371908</td>\n",
       "      <td>2</td>\n",
       "    </tr>\n",
       "    <tr>\n",
       "      <th>2</th>\n",
       "      <td>Sanlando Park</td>\n",
       "      <td>Altamonte Springs</td>\n",
       "      <td>10</td>\n",
       "      <td>Seminole</td>\n",
       "      <td>28.662728</td>\n",
       "      <td>-81.371908</td>\n",
       "      <td>3</td>\n",
       "    </tr>\n",
       "    <tr>\n",
       "      <th>3</th>\n",
       "      <td>Westmonte Park</td>\n",
       "      <td>Altamonte Springs</td>\n",
       "      <td>3</td>\n",
       "      <td>Seminole</td>\n",
       "      <td>28.662728</td>\n",
       "      <td>-81.371908</td>\n",
       "      <td>4</td>\n",
       "    </tr>\n",
       "    <tr>\n",
       "      <th>4</th>\n",
       "      <td>Lake Brantley South Gym</td>\n",
       "      <td>Altamonte Springs</td>\n",
       "      <td>2</td>\n",
       "      <td>Seminole</td>\n",
       "      <td>28.662728</td>\n",
       "      <td>-81.371908</td>\n",
       "      <td>5</td>\n",
       "    </tr>\n",
       "  </tbody>\n",
       "</table>\n",
       "</div>"
      ],
      "text/plain": [
       "                  Location Name               City Number of Courts    County  \\\n",
       "0  Hal Brady Recreation Complex            Alachua                6   Alachua   \n",
       "1                Eastmonte Park  Altamonte Springs                4  Seminole   \n",
       "2                 Sanlando Park  Altamonte Springs               10  Seminole   \n",
       "3                Westmonte Park  Altamonte Springs                3  Seminole   \n",
       "4       Lake Brantley South Gym  Altamonte Springs                2  Seminole   \n",
       "\n",
       "    Latitude  Longitude  ID  \n",
       "0  29.796996 -82.480531   1  \n",
       "1  28.662728 -81.371908   2  \n",
       "2  28.662728 -81.371908   3  \n",
       "3  28.662728 -81.371908   4  \n",
       "4  28.662728 -81.371908   5  "
      ]
     },
     "execution_count": 14,
     "metadata": {},
     "output_type": "execute_result"
    }
   ],
   "source": [
    "fl_full_info=pd.merge(fl_pickleball_df_sorted,city_county_df,on='City',how='left')\n",
    "fl_full_info.to_csv('pickleball_courts_with_counties_updated.csv',index=False)\n",
    "fl_full_info['Number of Courts'] = fl_full_info['Number of Courts'].str.replace(' courts', '')\n",
    "fl_full_info['Number of Courts'] = fl_full_info['Number of Courts'].str.replace(' court', '')\n",
    "fl_full_info['ID'] = range(1, len(fl_full_info) + 1)\n",
    "fl_full_info.head()\n"
   ]
  },
  {
   "cell_type": "code",
   "execution_count": 19,
   "metadata": {},
   "outputs": [
    {
     "data": {
      "text/plain": [
       "1033"
      ]
     },
     "execution_count": 19,
     "metadata": {},
     "output_type": "execute_result"
    }
   ],
   "source": [
    "conn = sqlite3.connect('florida_info_db.sqlite')\n",
    "fl_full_info.to_sql('court_location', conn, index=False, if_exists='replace', dtype={'ID': 'INTEGER PRIMARY KEY'})"
   ]
  },
  {
   "cell_type": "code",
   "execution_count": 9,
   "metadata": {},
   "outputs": [],
   "source": [
    "browser.quit()"
   ]
  },
  {
   "cell_type": "code",
   "execution_count": null,
   "metadata": {},
   "outputs": [
    {
     "name": "stdout",
     "output_type": "stream",
     "text": [
      "['court_locations']\n"
     ]
    }
   ],
   "source": [
    "# Import the dependencies.\n",
    "import sqlalchemy\n",
    "from sqlalchemy.ext.automap import automap_base\n",
    "from sqlalchemy.orm import Session\n",
    "from sqlalchemy import create_engine, func,inspect\n",
    "\n",
    "\n",
    "#################################################\n",
    "# Database Setup\n",
    "#################################################\n",
    "\n",
    "engine = create_engine(\"sqlite:///fl_full_db.sqlite\")\n",
    "\n",
    "# reflect an existing database into a new model\n",
    "Base=automap_base()\n",
    "# reflect the tables\n",
    "Base.prepare(autoload_with=engine)\n",
    "\n",
    "# Save references to each table\n",
    "court_locations=Base.classes.keys()\n",
    "print(court_locations)"
   ]
  }
 ],
 "metadata": {
  "kernelspec": {
   "display_name": "dev",
   "language": "python",
   "name": "python3"
  },
  "language_info": {
   "codemirror_mode": {
    "name": "ipython",
    "version": 3
   },
   "file_extension": ".py",
   "mimetype": "text/x-python",
   "name": "python",
   "nbconvert_exporter": "python",
   "pygments_lexer": "ipython3",
   "version": "3.10.11"
  },
  "orig_nbformat": 4
 },
 "nbformat": 4,
 "nbformat_minor": 2
}
