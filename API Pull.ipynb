{
 "cells": [
  {
   "cell_type": "code",
   "execution_count": 1,
   "metadata": {},
   "outputs": [],
   "source": [
    "import pandas as pd\n",
    "import requests\n",
    "import sqlalchemy\n",
    "from sqlalchemy import create_engine, Column, Integer, String, Float, PrimaryKeyConstraint, func,inspect,text\n",
    "from sqlalchemy.ext.declarative import declarative_base\n",
    "from sqlalchemy.orm import sessionmaker, Session\n",
    "import sqlite3\n",
    "from sqlalchemy.ext.automap import automap_base"
   ]
  },
  {
   "cell_type": "code",
   "execution_count": 2,
   "metadata": {},
   "outputs": [],
   "source": [
    "url=\"https://api.census.gov/data/2019/pep/charagegroups?\"\n"
   ]
  },
  {
   "cell_type": "code",
   "execution_count": 3,
   "metadata": {},
   "outputs": [],
   "source": [
    "all_population=\"000\"\n",
    "age_65_up=\"026\"\n",
    "query_url=url+ \"get=NAME,POP&for=county:*&in=state:12&AGEGROUP=\"\n",
    "all_pop_query=query_url+all_population\n",
    "age_65_up_query=query_url+age_65_up\n",
    "results_cols=[\"County, State\",\"Population\",\"Age Group\",\"State Code\",\"County Code\"]"
   ]
  },
  {
   "cell_type": "code",
   "execution_count": 4,
   "metadata": {},
   "outputs": [],
   "source": [
    "all_pop_results=requests.get(all_pop_query).json()\n",
    "age_65_up_results=requests.get(age_65_up_query).json()"
   ]
  },
  {
   "cell_type": "code",
   "execution_count": 5,
   "metadata": {},
   "outputs": [
    {
     "data": {
      "text/html": [
       "<div>\n",
       "<style scoped>\n",
       "    .dataframe tbody tr th:only-of-type {\n",
       "        vertical-align: middle;\n",
       "    }\n",
       "\n",
       "    .dataframe tbody tr th {\n",
       "        vertical-align: top;\n",
       "    }\n",
       "\n",
       "    .dataframe thead th {\n",
       "        text-align: right;\n",
       "    }\n",
       "</style>\n",
       "<table border=\"1\" class=\"dataframe\">\n",
       "  <thead>\n",
       "    <tr style=\"text-align: right;\">\n",
       "      <th></th>\n",
       "      <th>NAME</th>\n",
       "      <th>POP</th>\n",
       "      <th>AGEGROUP</th>\n",
       "      <th>state</th>\n",
       "      <th>county</th>\n",
       "    </tr>\n",
       "  </thead>\n",
       "  <tbody>\n",
       "    <tr>\n",
       "      <th>1</th>\n",
       "      <td>Washington County, Florida</td>\n",
       "      <td>4380</td>\n",
       "      <td>26</td>\n",
       "      <td>12</td>\n",
       "      <td>133</td>\n",
       "    </tr>\n",
       "    <tr>\n",
       "      <th>2</th>\n",
       "      <td>Duval County, Florida</td>\n",
       "      <td>138594</td>\n",
       "      <td>26</td>\n",
       "      <td>12</td>\n",
       "      <td>031</td>\n",
       "    </tr>\n",
       "    <tr>\n",
       "      <th>3</th>\n",
       "      <td>Bradford County, Florida</td>\n",
       "      <td>5064</td>\n",
       "      <td>26</td>\n",
       "      <td>12</td>\n",
       "      <td>007</td>\n",
       "    </tr>\n",
       "    <tr>\n",
       "      <th>4</th>\n",
       "      <td>Brevard County, Florida</td>\n",
       "      <td>145752</td>\n",
       "      <td>26</td>\n",
       "      <td>12</td>\n",
       "      <td>009</td>\n",
       "    </tr>\n",
       "    <tr>\n",
       "      <th>5</th>\n",
       "      <td>Clay County, Florida</td>\n",
       "      <td>35844</td>\n",
       "      <td>26</td>\n",
       "      <td>12</td>\n",
       "      <td>019</td>\n",
       "    </tr>\n",
       "    <tr>\n",
       "      <th>...</th>\n",
       "      <td>...</td>\n",
       "      <td>...</td>\n",
       "      <td>...</td>\n",
       "      <td>...</td>\n",
       "      <td>...</td>\n",
       "    </tr>\n",
       "    <tr>\n",
       "      <th>63</th>\n",
       "      <td>Hernando County, Florida</td>\n",
       "      <td>53348</td>\n",
       "      <td>26</td>\n",
       "      <td>12</td>\n",
       "      <td>053</td>\n",
       "    </tr>\n",
       "    <tr>\n",
       "      <th>64</th>\n",
       "      <td>Hillsborough County, Florida</td>\n",
       "      <td>214035</td>\n",
       "      <td>26</td>\n",
       "      <td>12</td>\n",
       "      <td>057</td>\n",
       "    </tr>\n",
       "    <tr>\n",
       "      <th>65</th>\n",
       "      <td>Okaloosa County, Florida</td>\n",
       "      <td>34376</td>\n",
       "      <td>26</td>\n",
       "      <td>12</td>\n",
       "      <td>091</td>\n",
       "    </tr>\n",
       "    <tr>\n",
       "      <th>66</th>\n",
       "      <td>Taylor County, Florida</td>\n",
       "      <td>4525</td>\n",
       "      <td>26</td>\n",
       "      <td>12</td>\n",
       "      <td>123</td>\n",
       "    </tr>\n",
       "    <tr>\n",
       "      <th>67</th>\n",
       "      <td>Wakulla County, Florida</td>\n",
       "      <td>5366</td>\n",
       "      <td>26</td>\n",
       "      <td>12</td>\n",
       "      <td>129</td>\n",
       "    </tr>\n",
       "  </tbody>\n",
       "</table>\n",
       "<p>67 rows × 5 columns</p>\n",
       "</div>"
      ],
      "text/plain": [
       "0                           NAME     POP AGEGROUP state county\n",
       "1     Washington County, Florida    4380       26    12    133\n",
       "2          Duval County, Florida  138594       26    12    031\n",
       "3       Bradford County, Florida    5064       26    12    007\n",
       "4        Brevard County, Florida  145752       26    12    009\n",
       "5           Clay County, Florida   35844       26    12    019\n",
       "..                           ...     ...      ...   ...    ...\n",
       "63      Hernando County, Florida   53348       26    12    053\n",
       "64  Hillsborough County, Florida  214035       26    12    057\n",
       "65      Okaloosa County, Florida   34376       26    12    091\n",
       "66        Taylor County, Florida    4525       26    12    123\n",
       "67       Wakulla County, Florida    5366       26    12    129\n",
       "\n",
       "[67 rows x 5 columns]"
      ]
     },
     "execution_count": 5,
     "metadata": {},
     "output_type": "execute_result"
    }
   ],
   "source": [
    "age_65_up_df=pd.DataFrame(age_65_up_results,columns=results_cols)\n",
    "age_65_up_df.columns=age_65_up_df.iloc[0]\n",
    "age_65_up_df=age_65_up_df.tail(-1)\n",
    "age_65_up_df"
   ]
  },
  {
   "cell_type": "code",
   "execution_count": 6,
   "metadata": {},
   "outputs": [],
   "source": [
    "all_pop_df=pd.DataFrame(all_pop_results,columns=results_cols)\n",
    "all_pop_df.columns=all_pop_df.iloc[0]\n",
    "all_pop_df=all_pop_df.tail(-1)"
   ]
  },
  {
   "cell_type": "code",
   "execution_count": 7,
   "metadata": {},
   "outputs": [],
   "source": [
    "pop_percent_df=pd.merge(all_pop_df,age_65_up_df,on='county',how='outer')"
   ]
  },
  {
   "cell_type": "code",
   "execution_count": 8,
   "metadata": {},
   "outputs": [],
   "source": [
    "pop_percent_df[['County','State']]=pop_percent_df['NAME_x'].str.split(', ',expand=True)\n",
    "pop_percent_df.drop(columns=['NAME_x','NAME_y','AGEGROUP_x','AGEGROUP_y','state_x','state_y','State'],inplace=True)"
   ]
  },
  {
   "cell_type": "code",
   "execution_count": 9,
   "metadata": {},
   "outputs": [],
   "source": [
    "pop_percent_df=pop_percent_df.rename(columns={'county':'County_ID','POP_x':'Total_Population','POP_y':'Elderly_Population','state':'State_ID'})\n",
    "data_types={'Total_Population':'int','County_ID':'int','Elderly_Population':'int','County':'str'}\n",
    "pop_percent_df=pop_percent_df.astype(data_types)\n"
   ]
  },
  {
   "cell_type": "code",
   "execution_count": 10,
   "metadata": {},
   "outputs": [],
   "source": [
    "pop_percent_df['Percent_Elderly']=round((pop_percent_df['Elderly_Population']/pop_percent_df['Total_Population'])*100,2)\n",
    "# pop_percent_df['Percent_Elderly'] = pop_percent_df['Percent_Elderly'].map('{:.2f}'.format)\n",
    "pop_percent_df['County'] = pop_percent_df['County'].str.replace(' County', '')"
   ]
  },
  {
   "cell_type": "code",
   "execution_count": 11,
   "metadata": {},
   "outputs": [],
   "source": [
    "county_table=pop_percent_df[['County_ID','County']]"
   ]
  },
  {
   "cell_type": "code",
   "execution_count": 12,
   "metadata": {},
   "outputs": [
    {
     "data": {
      "text/plain": [
       "0\n",
       "Total_Population        int32\n",
       "County_ID               int32\n",
       "Elderly_Population      int32\n",
       "County                 object\n",
       "Percent_Elderly       float64\n",
       "dtype: object"
      ]
     },
     "execution_count": 12,
     "metadata": {},
     "output_type": "execute_result"
    }
   ],
   "source": [
    "city_county_df=pd.read_csv('Florida City County and Coordinates.csv')\n",
    "city_county_df=city_county_df.rename(columns={\"CITY\":\"City\",\"COUNTY\":\"County\",\"LATITUDE\":\"Latitude\",\"LONGITUDE\":\"Longitude\"})\n",
    "pop_percent_df.dtypes\n"
   ]
  },
  {
   "cell_type": "code",
   "execution_count": 19,
   "metadata": {},
   "outputs": [
    {
     "data": {
      "text/plain": [
       "67"
      ]
     },
     "execution_count": 19,
     "metadata": {},
     "output_type": "execute_result"
    }
   ],
   "source": [
    "# # Create the SQLAlchemy engine\n",
    "# engine = create_engine(\"sqlite:///../Resources/demographics.sqlite\")\n",
    "\n",
    "# # Create a base class\n",
    "# Base = automap_base()\n",
    "\n",
    "# # Reflect the database schema into the base class\n",
    "# Base.prepare(autoload_with=engine)\n",
    "conn = sqlite3.connect('florida_full_db.sqlite')\n",
    "pop_percent_df.to_sql('elderly_people', conn, index=False, if_exists='replace', dtype={'County_ID': 'INTEGER PRIMARY KEY'})"
   ]
  },
  {
   "cell_type": "code",
   "execution_count": 14,
   "metadata": {},
   "outputs": [
    {
     "name": "stdout",
     "output_type": "stream",
     "text": [
      "Engine(sqlite:///your_database.sqlite)\n"
     ]
    }
   ],
   "source": [
    "# Import the dependencies.\n",
    "import sqlalchemy\n",
    "from sqlalchemy.ext.automap import automap_base\n",
    "from sqlalchemy.orm import Session\n",
    "from sqlalchemy import create_engine, func,inspect\n",
    "\n",
    "\n",
    "#################################################\n",
    "# Database Setup\n",
    "#################################################\n",
    "\n",
    "engine = create_engine(\"sqlite:///your_database.sqlite\")\n",
    "\n",
    "# reflect an existing database into a new model\n",
    "Base=automap_base()\n",
    "# reflect the tables\n",
    "Base.prepare(autoload_with=engine)\n",
    "\n",
    "# Save references to each table\n",
    "data=Base.classes.keys()\n",
    "conn = engine.connect()\n",
    "print(engine)\n"
   ]
  },
  {
   "cell_type": "code",
   "execution_count": 15,
   "metadata": {},
   "outputs": [],
   "source": [
    "data=pd.read_sql('SELECT * FROM your_table_name LIMIT 5', conn)\n"
   ]
  },
  {
   "cell_type": "code",
   "execution_count": 16,
   "metadata": {},
   "outputs": [
    {
     "data": {
      "text/html": [
       "<div>\n",
       "<style scoped>\n",
       "    .dataframe tbody tr th:only-of-type {\n",
       "        vertical-align: middle;\n",
       "    }\n",
       "\n",
       "    .dataframe tbody tr th {\n",
       "        vertical-align: top;\n",
       "    }\n",
       "\n",
       "    .dataframe thead th {\n",
       "        text-align: right;\n",
       "    }\n",
       "</style>\n",
       "<table border=\"1\" class=\"dataframe\">\n",
       "  <thead>\n",
       "    <tr style=\"text-align: right;\">\n",
       "      <th></th>\n",
       "      <th>Total_Population</th>\n",
       "      <th>County_ID</th>\n",
       "      <th>Elderly_Population</th>\n",
       "      <th>County</th>\n",
       "      <th>Percent_Elderly</th>\n",
       "    </tr>\n",
       "  </thead>\n",
       "  <tbody>\n",
       "    <tr>\n",
       "      <th>0</th>\n",
       "      <td>25473</td>\n",
       "      <td>133</td>\n",
       "      <td>4380</td>\n",
       "      <td>Washington</td>\n",
       "      <td>17.19</td>\n",
       "    </tr>\n",
       "    <tr>\n",
       "      <th>1</th>\n",
       "      <td>957755</td>\n",
       "      <td>31</td>\n",
       "      <td>138594</td>\n",
       "      <td>Duval</td>\n",
       "      <td>14.47</td>\n",
       "    </tr>\n",
       "    <tr>\n",
       "      <th>2</th>\n",
       "      <td>28201</td>\n",
       "      <td>7</td>\n",
       "      <td>5064</td>\n",
       "      <td>Bradford</td>\n",
       "      <td>17.96</td>\n",
       "    </tr>\n",
       "    <tr>\n",
       "      <th>3</th>\n",
       "      <td>601942</td>\n",
       "      <td>9</td>\n",
       "      <td>145752</td>\n",
       "      <td>Brevard</td>\n",
       "      <td>24.21</td>\n",
       "    </tr>\n",
       "    <tr>\n",
       "      <th>4</th>\n",
       "      <td>219252</td>\n",
       "      <td>19</td>\n",
       "      <td>35844</td>\n",
       "      <td>Clay</td>\n",
       "      <td>16.35</td>\n",
       "    </tr>\n",
       "  </tbody>\n",
       "</table>\n",
       "</div>"
      ],
      "text/plain": [
       "   Total_Population  County_ID  Elderly_Population      County  \\\n",
       "0             25473        133                4380  Washington   \n",
       "1            957755         31              138594       Duval   \n",
       "2             28201          7                5064    Bradford   \n",
       "3            601942          9              145752     Brevard   \n",
       "4            219252         19               35844        Clay   \n",
       "\n",
       "   Percent_Elderly  \n",
       "0            17.19  \n",
       "1            14.47  \n",
       "2            17.96  \n",
       "3            24.21  \n",
       "4            16.35  "
      ]
     },
     "execution_count": 16,
     "metadata": {},
     "output_type": "execute_result"
    }
   ],
   "source": [
    "data"
   ]
  },
  {
   "cell_type": "code",
   "execution_count": 17,
   "metadata": {},
   "outputs": [],
   "source": [
    "# Base = declarative_base()\n",
    "# class elderly(Base):\n",
    "#     __tablename__ = 'elderly'\n",
    "\n",
    "#     id = Column(Integer, primary_key=True, autoincrement=True)\n",
    "#     county= Column(String)\n",
    "#     elderly_population= Column(Integer)\n",
    "#     total_population=Column(Integer)\n",
    "#     percent_elderly=Column(Float)\n",
    "\n",
    "# engine = create_engine('sqlite:///fl_full_db.sqlite')\n",
    "# Base.metadata.create_all(engine)\n",
    "\n",
    "# Session = sessionmaker(bind=engine)\n",
    "# session = Session()\n",
    "\n",
    "# for _, row in pop_percent_df.iterrows():\n",
    "#     next_location = elderly(\n",
    "#         county=row['County'],\n",
    "#         elderly_population=row['Elderly_Population'],        \n",
    "#         total_population=row['Total_Population'],\n",
    "#         percent_elderly=row['Percent_Elderly'])\n",
    "#     session.add(next_location)\n",
    "\n",
    "# session.commit()\n",
    "# session.close()"
   ]
  }
 ],
 "metadata": {
  "kernelspec": {
   "display_name": "dev",
   "language": "python",
   "name": "python3"
  },
  "language_info": {
   "codemirror_mode": {
    "name": "ipython",
    "version": 3
   },
   "file_extension": ".py",
   "mimetype": "text/x-python",
   "name": "python",
   "nbconvert_exporter": "python",
   "pygments_lexer": "ipython3",
   "version": "3.10.11"
  },
  "orig_nbformat": 4
 },
 "nbformat": 4,
 "nbformat_minor": 2
}
