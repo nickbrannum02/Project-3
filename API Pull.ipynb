{
 "cells": [
  {
   "cell_type": "code",
   "execution_count": 1,
   "metadata": {},
   "outputs": [],
   "source": [
    "import pandas as pd\n",
    "import requests"
   ]
  },
  {
   "cell_type": "code",
   "execution_count": 2,
   "metadata": {},
   "outputs": [],
   "source": [
    "url=\"https://api.census.gov/data/2019/pep/charagegroups?\"\n"
   ]
  },
  {
   "cell_type": "code",
   "execution_count": 16,
   "metadata": {},
   "outputs": [],
   "source": [
    "query_url=url+ \"get=NAME,POP&for=county:*&in=state:12&AGEGROUP=026\"\n",
    "results_cols=[\"County, State\",\"Population\",\"Age Group\",\"State Code\",\"County Code\"]"
   ]
  },
  {
   "cell_type": "code",
   "execution_count": 17,
   "metadata": {},
   "outputs": [],
   "source": [
    "results=requests.get(query_url).json()"
   ]
  },
  {
   "cell_type": "code",
   "execution_count": 18,
   "metadata": {},
   "outputs": [
    {
     "data": {
      "text/plain": [
       "[['NAME', 'POP', 'AGEGROUP', 'state', 'county'],\n",
       " ['Washington County, Florida', '4380', '26', '12', '133'],\n",
       " ['Duval County, Florida', '138594', '26', '12', '031'],\n",
       " ['Bradford County, Florida', '5064', '26', '12', '007'],\n",
       " ['Brevard County, Florida', '145752', '26', '12', '009'],\n",
       " ['Clay County, Florida', '35844', '26', '12', '019'],\n",
       " ['Lafayette County, Florida', '1455', '26', '12', '067'],\n",
       " ['Lake County, Florida', '99386', '26', '12', '069'],\n",
       " ['Nassau County, Florida', '20231', '26', '12', '089'],\n",
       " ['Pinellas County, Florida', '247630', '26', '12', '103'],\n",
       " ['Polk County, Florida', '148168', '26', '12', '105'],\n",
       " ['St. Lucie County, Florida', '80928', '26', '12', '111'],\n",
       " ['Glades County, Florida', '3808', '26', '12', '043'],\n",
       " ['Hendry County, Florida', '5779', '26', '12', '051'],\n",
       " ['Indian River County, Florida', '54133', '26', '12', '061'],\n",
       " ['Jackson County, Florida', '9570', '26', '12', '063'],\n",
       " ['Palm Beach County, Florida', '364544', '26', '12', '099'],\n",
       " ['St. Johns County, Florida', '54654', '26', '12', '109'],\n",
       " ['Seminole County, Florida', '75401', '26', '12', '117'],\n",
       " ['Miami-Dade County, Florida', '452607', '26', '12', '086'],\n",
       " ['Bay County, Florida', '32535', '26', '12', '005'],\n",
       " ['Flagler County, Florida', '35896', '26', '12', '035'],\n",
       " ['Franklin County, Florida', '2926', '26', '12', '037'],\n",
       " ['Gulf County, Florida', '3614', '26', '12', '045'],\n",
       " ['Hamilton County, Florida', '2664', '26', '12', '047'],\n",
       " ['Liberty County, Florida', '1256', '26', '12', '077'],\n",
       " ['Osceola County, Florida', '50781', '26', '12', '097'],\n",
       " ['Sumter County, Florida', '77034', '26', '12', '119'],\n",
       " ['Walton County, Florida', '14977', '26', '12', '131'],\n",
       " ['Gadsden County, Florida', '8540', '26', '12', '039'],\n",
       " ['Holmes County, Florida', '3921', '26', '12', '059'],\n",
       " ['Jefferson County, Florida', '3511', '26', '12', '065'],\n",
       " ['Lee County, Florida', '224632', '26', '12', '071'],\n",
       " ['Marion County, Florida', '106675', '26', '12', '083'],\n",
       " ['Hardee County, Florida', '4695', '26', '12', '049'],\n",
       " ['Collier County, Florida', '126707', '26', '12', '021'],\n",
       " ['Okeechobee County, Florida', '8482', '26', '12', '093'],\n",
       " ['Orange County, Florida', '171557', '26', '12', '095'],\n",
       " ['Pasco County, Florida', '125451', '26', '12', '101'],\n",
       " ['Gilchrist County, Florida', '3838', '26', '12', '041'],\n",
       " ['Highlands County, Florida', '38289', '26', '12', '055'],\n",
       " ['Suwannee County, Florida', '9650', '26', '12', '121'],\n",
       " ['Alachua County, Florida', '39272', '26', '12', '001'],\n",
       " ['DeSoto County, Florida', '8558', '26', '12', '027'],\n",
       " ['Calhoun County, Florida', '2670', '26', '12', '013'],\n",
       " ['Charlotte County, Florida', '77072', '26', '12', '015'],\n",
       " ['Columbia County, Florida', '13809', '26', '12', '023'],\n",
       " ['Dixie County, Florida', '3984', '26', '12', '029'],\n",
       " ['Martin County, Florida', '50760', '26', '12', '085'],\n",
       " ['Putnam County, Florida', '17675', '26', '12', '107'],\n",
       " ['Sarasota County, Florida', '161948', '26', '12', '115'],\n",
       " ['Union County, Florida', '2317', '26', '12', '125'],\n",
       " ['Manatee County, Florida', '113157', '26', '12', '081'],\n",
       " ['Citrus County, Florida', '54938', '26', '12', '017'],\n",
       " ['Levy County, Florida', '10436', '26', '12', '075'],\n",
       " ['Baker County, Florida', '4117', '26', '12', '003'],\n",
       " ['Santa Rosa County, Florida', '30121', '26', '12', '113'],\n",
       " ['Volusia County, Florida', '137811', '26', '12', '127'],\n",
       " ['Leon County, Florida', '40786', '26', '12', '073'],\n",
       " ['Broward County, Florida', '334596', '26', '12', '011'],\n",
       " ['Madison County, Florida', '3902', '26', '12', '079'],\n",
       " ['Monroe County, Florida', '17628', '26', '12', '087'],\n",
       " ['Escambia County, Florida', '54571', '26', '12', '033'],\n",
       " ['Hernando County, Florida', '53348', '26', '12', '053'],\n",
       " ['Hillsborough County, Florida', '214035', '26', '12', '057'],\n",
       " ['Okaloosa County, Florida', '34376', '26', '12', '091'],\n",
       " ['Taylor County, Florida', '4525', '26', '12', '123'],\n",
       " ['Wakulla County, Florida', '5366', '26', '12', '129']]"
      ]
     },
     "execution_count": 18,
     "metadata": {},
     "output_type": "execute_result"
    }
   ],
   "source": [
    "results"
   ]
  },
  {
   "cell_type": "code",
   "execution_count": 21,
   "metadata": {},
   "outputs": [
    {
     "data": {
      "text/html": [
       "<div>\n",
       "<style scoped>\n",
       "    .dataframe tbody tr th:only-of-type {\n",
       "        vertical-align: middle;\n",
       "    }\n",
       "\n",
       "    .dataframe tbody tr th {\n",
       "        vertical-align: top;\n",
       "    }\n",
       "\n",
       "    .dataframe thead th {\n",
       "        text-align: right;\n",
       "    }\n",
       "</style>\n",
       "<table border=\"1\" class=\"dataframe\">\n",
       "  <thead>\n",
       "    <tr style=\"text-align: right;\">\n",
       "      <th></th>\n",
       "      <th>NAME</th>\n",
       "      <th>POP</th>\n",
       "      <th>AGEGROUP</th>\n",
       "      <th>state</th>\n",
       "      <th>county</th>\n",
       "    </tr>\n",
       "  </thead>\n",
       "  <tbody>\n",
       "    <tr>\n",
       "      <th>1</th>\n",
       "      <td>Washington County, Florida</td>\n",
       "      <td>4380</td>\n",
       "      <td>26</td>\n",
       "      <td>12</td>\n",
       "      <td>133</td>\n",
       "    </tr>\n",
       "    <tr>\n",
       "      <th>2</th>\n",
       "      <td>Duval County, Florida</td>\n",
       "      <td>138594</td>\n",
       "      <td>26</td>\n",
       "      <td>12</td>\n",
       "      <td>031</td>\n",
       "    </tr>\n",
       "    <tr>\n",
       "      <th>3</th>\n",
       "      <td>Bradford County, Florida</td>\n",
       "      <td>5064</td>\n",
       "      <td>26</td>\n",
       "      <td>12</td>\n",
       "      <td>007</td>\n",
       "    </tr>\n",
       "    <tr>\n",
       "      <th>4</th>\n",
       "      <td>Brevard County, Florida</td>\n",
       "      <td>145752</td>\n",
       "      <td>26</td>\n",
       "      <td>12</td>\n",
       "      <td>009</td>\n",
       "    </tr>\n",
       "    <tr>\n",
       "      <th>5</th>\n",
       "      <td>Clay County, Florida</td>\n",
       "      <td>35844</td>\n",
       "      <td>26</td>\n",
       "      <td>12</td>\n",
       "      <td>019</td>\n",
       "    </tr>\n",
       "  </tbody>\n",
       "</table>\n",
       "</div>"
      ],
      "text/plain": [
       "0                        NAME     POP AGEGROUP state county\n",
       "1  Washington County, Florida    4380       26    12    133\n",
       "2       Duval County, Florida  138594       26    12    031\n",
       "3    Bradford County, Florida    5064       26    12    007\n",
       "4     Brevard County, Florida  145752       26    12    009\n",
       "5        Clay County, Florida   35844       26    12    019"
      ]
     },
     "execution_count": 21,
     "metadata": {},
     "output_type": "execute_result"
    }
   ],
   "source": [
    "df=pd.DataFrame(results,columns=results_cols)\n",
    "df. columns=df. iloc[0]\n",
    "df=df.tail(-1)\n",
    "df.head()"
   ]
  }
 ],
 "metadata": {
  "kernelspec": {
   "display_name": "dev",
   "language": "python",
   "name": "python3"
  },
  "language_info": {
   "codemirror_mode": {
    "name": "ipython",
    "version": 3
   },
   "file_extension": ".py",
   "mimetype": "text/x-python",
   "name": "python",
   "nbconvert_exporter": "python",
   "pygments_lexer": "ipython3",
   "version": "3.10.11"
  },
  "orig_nbformat": 4
 },
 "nbformat": 4,
 "nbformat_minor": 2
}
