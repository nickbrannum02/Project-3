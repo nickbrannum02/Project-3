{
 "cells": [
  {
   "cell_type": "code",
   "execution_count": 1,
   "metadata": {},
   "outputs": [],
   "source": [
    "import pandas as pd\n",
    "import requests\n",
    "import sqlalchemy\n",
    "from sqlalchemy import create_engine\n",
    "import sqlite3"
   ]
  },
  {
   "cell_type": "code",
   "execution_count": 2,
   "metadata": {},
   "outputs": [],
   "source": [
    "url=\"https://api.census.gov/data/2019/pep/charagegroups?\"\n"
   ]
  },
  {
   "cell_type": "code",
   "execution_count": 3,
   "metadata": {},
   "outputs": [],
   "source": [
    "all_population=\"000\"\n",
    "age_65_up=\"026\"\n",
    "query_url=url+ \"get=NAME,POP&for=county:*&in=state:12&AGEGROUP=\"\n",
    "all_pop_query=query_url+all_population\n",
    "age_65_up_query=query_url+age_65_up\n",
    "results_cols=[\"County, State\",\"Population\",\"Age Group\",\"State Code\",\"County Code\"]"
   ]
  },
  {
   "cell_type": "code",
   "execution_count": 4,
   "metadata": {},
   "outputs": [],
   "source": [
    "all_pop_results=requests.get(all_pop_query).json()\n",
    "age_65_up_results=requests.get(age_65_up_query).json()"
   ]
  },
  {
   "cell_type": "code",
   "execution_count": 5,
   "metadata": {},
   "outputs": [
    {
     "data": {
      "text/html": [
       "<div>\n",
       "<style scoped>\n",
       "    .dataframe tbody tr th:only-of-type {\n",
       "        vertical-align: middle;\n",
       "    }\n",
       "\n",
       "    .dataframe tbody tr th {\n",
       "        vertical-align: top;\n",
       "    }\n",
       "\n",
       "    .dataframe thead th {\n",
       "        text-align: right;\n",
       "    }\n",
       "</style>\n",
       "<table border=\"1\" class=\"dataframe\">\n",
       "  <thead>\n",
       "    <tr style=\"text-align: right;\">\n",
       "      <th></th>\n",
       "      <th>NAME</th>\n",
       "      <th>POP</th>\n",
       "      <th>AGEGROUP</th>\n",
       "      <th>state</th>\n",
       "      <th>county</th>\n",
       "    </tr>\n",
       "  </thead>\n",
       "  <tbody>\n",
       "    <tr>\n",
       "      <th>1</th>\n",
       "      <td>Washington County, Florida</td>\n",
       "      <td>4380</td>\n",
       "      <td>26</td>\n",
       "      <td>12</td>\n",
       "      <td>133</td>\n",
       "    </tr>\n",
       "    <tr>\n",
       "      <th>2</th>\n",
       "      <td>Duval County, Florida</td>\n",
       "      <td>138594</td>\n",
       "      <td>26</td>\n",
       "      <td>12</td>\n",
       "      <td>031</td>\n",
       "    </tr>\n",
       "    <tr>\n",
       "      <th>3</th>\n",
       "      <td>Bradford County, Florida</td>\n",
       "      <td>5064</td>\n",
       "      <td>26</td>\n",
       "      <td>12</td>\n",
       "      <td>007</td>\n",
       "    </tr>\n",
       "    <tr>\n",
       "      <th>4</th>\n",
       "      <td>Brevard County, Florida</td>\n",
       "      <td>145752</td>\n",
       "      <td>26</td>\n",
       "      <td>12</td>\n",
       "      <td>009</td>\n",
       "    </tr>\n",
       "    <tr>\n",
       "      <th>5</th>\n",
       "      <td>Clay County, Florida</td>\n",
       "      <td>35844</td>\n",
       "      <td>26</td>\n",
       "      <td>12</td>\n",
       "      <td>019</td>\n",
       "    </tr>\n",
       "    <tr>\n",
       "      <th>...</th>\n",
       "      <td>...</td>\n",
       "      <td>...</td>\n",
       "      <td>...</td>\n",
       "      <td>...</td>\n",
       "      <td>...</td>\n",
       "    </tr>\n",
       "    <tr>\n",
       "      <th>63</th>\n",
       "      <td>Hernando County, Florida</td>\n",
       "      <td>53348</td>\n",
       "      <td>26</td>\n",
       "      <td>12</td>\n",
       "      <td>053</td>\n",
       "    </tr>\n",
       "    <tr>\n",
       "      <th>64</th>\n",
       "      <td>Hillsborough County, Florida</td>\n",
       "      <td>214035</td>\n",
       "      <td>26</td>\n",
       "      <td>12</td>\n",
       "      <td>057</td>\n",
       "    </tr>\n",
       "    <tr>\n",
       "      <th>65</th>\n",
       "      <td>Okaloosa County, Florida</td>\n",
       "      <td>34376</td>\n",
       "      <td>26</td>\n",
       "      <td>12</td>\n",
       "      <td>091</td>\n",
       "    </tr>\n",
       "    <tr>\n",
       "      <th>66</th>\n",
       "      <td>Taylor County, Florida</td>\n",
       "      <td>4525</td>\n",
       "      <td>26</td>\n",
       "      <td>12</td>\n",
       "      <td>123</td>\n",
       "    </tr>\n",
       "    <tr>\n",
       "      <th>67</th>\n",
       "      <td>Wakulla County, Florida</td>\n",
       "      <td>5366</td>\n",
       "      <td>26</td>\n",
       "      <td>12</td>\n",
       "      <td>129</td>\n",
       "    </tr>\n",
       "  </tbody>\n",
       "</table>\n",
       "<p>67 rows × 5 columns</p>\n",
       "</div>"
      ],
      "text/plain": [
       "0                           NAME     POP AGEGROUP state county\n",
       "1     Washington County, Florida    4380       26    12    133\n",
       "2          Duval County, Florida  138594       26    12    031\n",
       "3       Bradford County, Florida    5064       26    12    007\n",
       "4        Brevard County, Florida  145752       26    12    009\n",
       "5           Clay County, Florida   35844       26    12    019\n",
       "..                           ...     ...      ...   ...    ...\n",
       "63      Hernando County, Florida   53348       26    12    053\n",
       "64  Hillsborough County, Florida  214035       26    12    057\n",
       "65      Okaloosa County, Florida   34376       26    12    091\n",
       "66        Taylor County, Florida    4525       26    12    123\n",
       "67       Wakulla County, Florida    5366       26    12    129\n",
       "\n",
       "[67 rows x 5 columns]"
      ]
     },
     "execution_count": 5,
     "metadata": {},
     "output_type": "execute_result"
    }
   ],
   "source": [
    "age_65_up_df=pd.DataFrame(age_65_up_results,columns=results_cols)\n",
    "age_65_up_df.columns=age_65_up_df.iloc[0]\n",
    "age_65_up_df=age_65_up_df.tail(-1)\n",
    "age_65_up_df"
   ]
  },
  {
   "cell_type": "code",
   "execution_count": 6,
   "metadata": {},
   "outputs": [],
   "source": [
    "all_pop_df=pd.DataFrame(all_pop_results,columns=results_cols)\n",
    "all_pop_df.columns=all_pop_df.iloc[0]\n",
    "all_pop_df=all_pop_df.tail(-1)"
   ]
  },
  {
   "cell_type": "code",
   "execution_count": 7,
   "metadata": {},
   "outputs": [],
   "source": [
    "pop_percent_df=pd.merge(all_pop_df,age_65_up_df,on='county',how='outer')"
   ]
  },
  {
   "cell_type": "code",
   "execution_count": 8,
   "metadata": {},
   "outputs": [],
   "source": [
    "pop_percent_df[['County','State']]=pop_percent_df['NAME_x'].str.split(', ',expand=True)\n",
    "pop_percent_df.drop(columns=['NAME_x','NAME_y','AGEGROUP_x','AGEGROUP_y','state_x','state_y','State'],inplace=True)"
   ]
  },
  {
   "cell_type": "code",
   "execution_count": 9,
   "metadata": {},
   "outputs": [],
   "source": [
    "pop_percent_df=pop_percent_df.rename(columns={'county':'County_ID','POP_x':'Total_Population','POP_y':'Elderly_Population','state':'State_ID'})\n",
    "data_types={'Total_Population':'int','County_ID':'int','Elderly_Population':'int'}\n",
    "pop_percent_df=pop_percent_df.astype(data_types)\n",
    "pop_percent_df['Percent_Elderly']=(pop_percent_df['Elderly_Population']/pop_percent_df['Total_Population'])*100\n",
    "pop_percent_df['Percent_Elderly'] = pop_percent_df['Percent_Elderly'].map(\"{:.2f}\".format)\n",
    "pop_percent_df['County'] = pop_percent_df['County'].str.replace(' County', '')"
   ]
  },
  {
   "cell_type": "code",
   "execution_count": 10,
   "metadata": {},
   "outputs": [],
   "source": [
    "county_table=pop_percent_df[['County_ID','County']]"
   ]
  },
  {
   "cell_type": "code",
   "execution_count": 11,
   "metadata": {},
   "outputs": [
    {
     "data": {
      "text/plain": [
       "67"
      ]
     },
     "execution_count": 11,
     "metadata": {},
     "output_type": "execute_result"
    }
   ],
   "source": [
    "city_county_df=pd.read_csv('Florida City County and Coordinates.csv')\n",
    "city_county_df=city_county_df.rename(columns={\"CITY\":\"City\",\"COUNTY\":\"County\",\"LATITUDE\":\"Latitude\",\"LONGITUDE\":\"Longitude\"})\n",
    "fl_city_df=pd.merge(pop_percent_df,city_county_df,on='County',how='left')\n",
    "db_file = 'elderly.sqlite'\n",
    "conn = sqlite3.connect(db_file)\n",
    "pop_percent_df.to_sql('data', conn, if_exists='replace', index=False)"
   ]
  }
 ],
 "metadata": {
  "kernelspec": {
   "display_name": "dev",
   "language": "python",
   "name": "python3"
  },
  "language_info": {
   "codemirror_mode": {
    "name": "ipython",
    "version": 3
   },
   "file_extension": ".py",
   "mimetype": "text/x-python",
   "name": "python",
   "nbconvert_exporter": "python",
   "pygments_lexer": "ipython3",
   "version": "3.10.11"
  },
  "orig_nbformat": 4
 },
 "nbformat": 4,
 "nbformat_minor": 2
}
