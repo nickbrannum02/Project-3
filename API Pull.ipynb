{
 "cells": [
  {
   "cell_type": "code",
   "execution_count": 1,
   "metadata": {},
   "outputs": [],
   "source": [
    "import pandas as pd\n",
    "import requests\n",
    "import sqlalchemy\n",
    "from sqlalchemy import create_engine, Column, Integer, String, Float, PrimaryKeyConstraint, func,inspect,text\n",
    "from sqlalchemy.ext.declarative import declarative_base\n",
    "from sqlalchemy.orm import sessionmaker, Session\n",
    "import sqlite3\n",
    "from sqlalchemy.ext.automap import automap_base\n",
    "import config\n",
    "from config import geoapify_key"
   ]
  },
  {
   "cell_type": "code",
   "execution_count": 2,
   "metadata": {},
   "outputs": [],
   "source": [
    "url=\"https://api.census.gov/data/2019/pep/charagegroups?\""
   ]
  },
  {
   "cell_type": "code",
   "execution_count": 3,
   "metadata": {},
   "outputs": [],
   "source": [
    "all_population=\"000\"\n",
    "age_65_up=\"026\"\n",
    "query_url=url+ \"get=NAME,POP&for=county:*&in=state:12&AGEGROUP=\"\n",
    "all_pop_query=query_url+all_population\n",
    "age_65_up_query=query_url+age_65_up\n",
    "results_cols=[\"County, State\",\"Population\",\"Age Group\",\"State Code\",\"County Code\"]"
   ]
  },
  {
   "cell_type": "code",
   "execution_count": 4,
   "metadata": {},
   "outputs": [],
   "source": [
    "all_pop_results=requests.get(all_pop_query).json()\n",
    "age_65_up_results=requests.get(age_65_up_query).json()"
   ]
  },
  {
   "cell_type": "code",
   "execution_count": 5,
   "metadata": {},
   "outputs": [],
   "source": [
    "age_65_up_df=pd.DataFrame(age_65_up_results,columns=results_cols)\n",
    "age_65_up_df.columns=age_65_up_df.iloc[0]\n",
    "age_65_up_df=age_65_up_df.tail(-1)"
   ]
  },
  {
   "cell_type": "code",
   "execution_count": 6,
   "metadata": {},
   "outputs": [],
   "source": [
    "all_pop_df=pd.DataFrame(all_pop_results,columns=results_cols)\n",
    "all_pop_df.columns=all_pop_df.iloc[0]\n",
    "all_pop_df=all_pop_df.tail(-1)"
   ]
  },
  {
   "cell_type": "code",
   "execution_count": 7,
   "metadata": {},
   "outputs": [],
   "source": [
    "pop_percent_df=pd.merge(all_pop_df,age_65_up_df,on='county',how='outer')"
   ]
  },
  {
   "cell_type": "code",
   "execution_count": 8,
   "metadata": {},
   "outputs": [],
   "source": [
    "pop_percent_df[['County','State']]=pop_percent_df['NAME_x'].str.split(', ',expand=True)\n",
    "pop_percent_df.drop(columns=['NAME_x','NAME_y','AGEGROUP_x','AGEGROUP_y','state_x','state_y','State'],inplace=True)"
   ]
  },
  {
   "cell_type": "code",
   "execution_count": 9,
   "metadata": {},
   "outputs": [],
   "source": [
    "pop_percent_df=pop_percent_df.rename(columns={'county':'County_ID','POP_x':'Total_Population','POP_y':'Elderly_Population','state':'State_ID'})\n",
    "data_types={'Total_Population':'int','County_ID':'int','Elderly_Population':'int','County':'str'}\n",
    "pop_percent_df=pop_percent_df.astype(data_types)"
   ]
  },
  {
   "cell_type": "code",
   "execution_count": 10,
   "metadata": {},
   "outputs": [],
   "source": [
    "pop_percent_df['Percent_Elderly']=round((pop_percent_df['Elderly_Population']/pop_percent_df['Total_Population'])*100,2)\n",
    "# pop_percent_df['Percent_Elderly'] = pop_percent_df['Percent_Elderly'].map('{:.2f}'.format)\n",
    "pop_percent_df['County'] = pop_percent_df['County'].str.replace(' County', '')"
   ]
  },
  {
   "cell_type": "code",
   "execution_count": 19,
   "metadata": {},
   "outputs": [
    {
     "data": {
      "text/html": [
       "<div>\n",
       "<style scoped>\n",
       "    .dataframe tbody tr th:only-of-type {\n",
       "        vertical-align: middle;\n",
       "    }\n",
       "\n",
       "    .dataframe tbody tr th {\n",
       "        vertical-align: top;\n",
       "    }\n",
       "\n",
       "    .dataframe thead th {\n",
       "        text-align: right;\n",
       "    }\n",
       "</style>\n",
       "<table border=\"1\" class=\"dataframe\">\n",
       "  <thead>\n",
       "    <tr style=\"text-align: right;\">\n",
       "      <th></th>\n",
       "      <th>Name</th>\n",
       "      <th>City</th>\n",
       "      <th>County</th>\n",
       "      <th>Latitude</th>\n",
       "      <th>Longitude</th>\n",
       "      <th>ID</th>\n",
       "    </tr>\n",
       "  </thead>\n",
       "  <tbody>\n",
       "    <tr>\n",
       "      <th>0</th>\n",
       "      <td>Johns Hopkins All Children's Hospital</td>\n",
       "      <td>Saint Petersburg</td>\n",
       "      <td>Pinellas</td>\n",
       "      <td>27.762944</td>\n",
       "      <td>-82.639751</td>\n",
       "      <td>1</td>\n",
       "    </tr>\n",
       "    <tr>\n",
       "      <th>1</th>\n",
       "      <td>Tampa General Hospital</td>\n",
       "      <td>Tampa</td>\n",
       "      <td>Hillsborough</td>\n",
       "      <td>27.937501</td>\n",
       "      <td>-82.458900</td>\n",
       "      <td>2</td>\n",
       "    </tr>\n",
       "    <tr>\n",
       "      <th>2</th>\n",
       "      <td>Morton Plant North Bay Hospital</td>\n",
       "      <td>New Port Richey</td>\n",
       "      <td>Pasco</td>\n",
       "      <td>28.254698</td>\n",
       "      <td>-82.714225</td>\n",
       "      <td>3</td>\n",
       "    </tr>\n",
       "    <tr>\n",
       "      <th>3</th>\n",
       "      <td>AdventHealth Tampa</td>\n",
       "      <td>Tampa</td>\n",
       "      <td>Hillsborough</td>\n",
       "      <td>28.071491</td>\n",
       "      <td>-82.421897</td>\n",
       "      <td>4</td>\n",
       "    </tr>\n",
       "    <tr>\n",
       "      <th>4</th>\n",
       "      <td>Saint Joseph's Hospital</td>\n",
       "      <td>Tampa</td>\n",
       "      <td>Hillsborough</td>\n",
       "      <td>27.982750</td>\n",
       "      <td>-82.491464</td>\n",
       "      <td>5</td>\n",
       "    </tr>\n",
       "  </tbody>\n",
       "</table>\n",
       "</div>"
      ],
      "text/plain": [
       "                                    Name              City        County  \\\n",
       "0  Johns Hopkins All Children's Hospital  Saint Petersburg      Pinellas   \n",
       "1                 Tampa General Hospital             Tampa  Hillsborough   \n",
       "2        Morton Plant North Bay Hospital   New Port Richey         Pasco   \n",
       "3                     AdventHealth Tampa             Tampa  Hillsborough   \n",
       "4                Saint Joseph's Hospital             Tampa  Hillsborough   \n",
       "\n",
       "    Latitude  Longitude  ID  \n",
       "0  27.762944 -82.639751   1  \n",
       "1  27.937501 -82.458900   2  \n",
       "2  28.254698 -82.714225   3  \n",
       "3  28.071491 -82.421897   4  \n",
       "4  27.982750 -82.491464   5  "
      ]
     },
     "execution_count": 19,
     "metadata": {},
     "output_type": "execute_result"
    }
   ],
   "source": [
    "hospital_url = \"https://api.geoapify.com/v2/places?categories=healthcare.hospital&filter=place:512bfac038c5a254c059f90f01cee96b3c40f00101f9010279020000000000920307466c6f72696461&limit=300&apiKey=\"+geoapify_key    \n",
    "hospital_response = requests.get(hospital_url).json()\n",
    "hospital_information = []\n",
    "features = hospital_response[\"features\"]\n",
    "\n",
    "for feature in features:\n",
    "    properties = feature['properties']\n",
    "    hospital_name = properties.get('name')\n",
    "    hospital_county = properties.get('county')\n",
    "    hospital_city = properties.get('city')\n",
    "    hospital_lat = properties.get('lat')  \n",
    "    hospital_lon = properties.get('lon')   \n",
    "\n",
    "    # Check if both keys are defined before appending to hospital_information\n",
    "    if hospital_name is not None and hospital_county is not None:\n",
    "        hospital_information.append({'Name': hospital_name, 'City': hospital_city,'County':hospital_county,'Latitude':hospital_lat,'Longitude':hospital_lon})\n",
    "hospital_df=pd.DataFrame(hospital_information)\n",
    "hospital_df['ID'] = range(1, len(hospital_df) + 1)\n",
    "hospital_df['County'] = hospital_df['County'].str.replace(' County', '')\n",
    "hospital_df.head()"
   ]
  },
  {
   "cell_type": "code",
   "execution_count": 15,
   "metadata": {},
   "outputs": [
    {
     "data": {
      "text/plain": [
       "67"
      ]
     },
     "execution_count": 15,
     "metadata": {},
     "output_type": "execute_result"
    }
   ],
   "source": [
    "conn = sqlite3.connect('florida_info_db.sqlite')\n",
    "pop_percent_df.to_sql('elderly_people', conn, index=False, if_exists='replace', dtype={'County_ID': 'INTEGER PRIMARY KEY'})\n"
   ]
  },
  {
   "cell_type": "code",
   "execution_count": 20,
   "metadata": {},
   "outputs": [
    {
     "data": {
      "text/plain": [
       "85"
      ]
     },
     "execution_count": 20,
     "metadata": {},
     "output_type": "execute_result"
    }
   ],
   "source": [
    "hospital_df.to_sql('hospitals', conn, index=False, if_exists='replace', dtype={'ID': 'INTEGER PRIMARY KEY'})"
   ]
  }
 ],
 "metadata": {
  "kernelspec": {
   "display_name": "dev",
   "language": "python",
   "name": "python3"
  },
  "language_info": {
   "codemirror_mode": {
    "name": "ipython",
    "version": 3
   },
   "file_extension": ".py",
   "mimetype": "text/x-python",
   "name": "python",
   "nbconvert_exporter": "python",
   "pygments_lexer": "ipython3",
   "version": "3.10.12"
  },
  "orig_nbformat": 4
 },
 "nbformat": 4,
 "nbformat_minor": 2
}
